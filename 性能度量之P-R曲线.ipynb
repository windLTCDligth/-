{
 "cells": [
  {
   "cell_type": "code",
   "execution_count": 1,
   "metadata": {},
   "outputs": [],
   "source": [
    "import numpy as np\n",
    "from sklearn import datasets\n",
    "from sklearn.model_selection import train_test_split\n",
    "from sklearn.preprocessing import StandardScaler, label_binarize\n",
    "from sklearn.linear_model import LogisticRegression\n",
    "from sklearn.metrics import precision_recall_curve, average_precision_score\n",
    "from sklearn.multiclass import OneVsRestClassifier"
   ]
  },
  {
   "cell_type": "markdown",
   "metadata": {},
   "source": [
    "## one-hot API \n",
    "https://scikit-learn.org/stable/modules/generated/sklearn.multiclass.OneVsRestClassifier.html"
   ]
  },
  {
   "cell_type": "code",
   "execution_count": 2,
   "metadata": {},
   "outputs": [],
   "source": [
    "digits = datasets.load_digits() #手写数字，十个类别\n",
    "X, y = digits.data, digits.target\n",
    "random_state = np.random.RandomState(0)\n",
    "n_samples, n_features = X.shape\n",
    "X = np.c_[X, random_state.randn(n_samples, 10*n_features)] #添加噪声\n",
    "X = StandardScaler().fit_transform(X) #标准化\n",
    "y = label_binarize(y, classes = np.unique(y)) #one-hot编码，应用于多分类\n",
    "#划分数据集\n",
    "X_train, X_test, y_train, y_test = train_test_split(X, y, test_size = 0.3, random_state = 0,stratify = y)\n",
    "\n",
    "#模型训练\n",
    "classifier = OneVsRestClassifier(LogisticRegression())\n",
    "classifier.fit(X_train, y_train) #训练模型，拟合数据\n",
    "y_score = classifier.decision_function(X_test)\n",
    "\n",
    "#对每一个类别计算性能指标\n"
   ]
  },
  {
   "cell_type": "code",
   "execution_count": 36,
   "metadata": {},
   "outputs": [
    {
     "data": {
      "text/plain": [
       "(1797,)"
      ]
     },
     "execution_count": 36,
     "metadata": {},
     "output_type": "execute_result"
    }
   ],
   "source": [
    "digits.target.shape"
   ]
  },
  {
   "cell_type": "code",
   "execution_count": 21,
   "metadata": {
    "collapsed": true
   },
   "outputs": [
    {
     "data": {
      "text/plain": [
       "array([[ 0.        ,  0.        ,  5.        , ...,  0.25249663,\n",
       "         0.8203218 ,  1.35994854],\n",
       "       [ 0.        ,  0.        ,  0.        , ..., -1.44911761,\n",
       "        -1.31771734,  0.54100822],\n",
       "       [ 0.        ,  0.        ,  0.        , ..., -2.12389002,\n",
       "         0.4595849 ,  0.28005786],\n",
       "       ...,\n",
       "       [ 0.        ,  0.        ,  1.        , ...,  0.61597847,\n",
       "        -0.68612044, -1.1217934 ],\n",
       "       [ 0.        ,  0.        ,  2.        , ...,  0.28329922,\n",
       "        -0.88852783,  2.89204205],\n",
       "       [ 0.        ,  0.        , 10.        , ...,  0.75867108,\n",
       "         0.72897829,  0.16368948]])"
      ]
     },
     "execution_count": 21,
     "metadata": {},
     "output_type": "execute_result"
    }
   ],
   "source": []
  },
  {
   "cell_type": "code",
   "execution_count": null,
   "metadata": {},
   "outputs": [],
   "source": []
  }
 ],
 "metadata": {
  "kernelspec": {
   "display_name": "Python 3",
   "language": "python",
   "name": "python3"
  },
  "language_info": {
   "codemirror_mode": {
    "name": "ipython",
    "version": 3
   },
   "file_extension": ".py",
   "mimetype": "text/x-python",
   "name": "python",
   "nbconvert_exporter": "python",
   "pygments_lexer": "ipython3",
   "version": "3.7.3"
  }
 },
 "nbformat": 4,
 "nbformat_minor": 2
}
