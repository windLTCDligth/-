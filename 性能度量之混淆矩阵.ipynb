{
 "cells": [
  {
   "cell_type": "code",
   "execution_count": 1,
   "metadata": {},
   "outputs": [
    {
     "name": "stderr",
     "output_type": "stream",
     "text": [
      "D:\\Users\\msi\\Anaconda3\\lib\\site-packages\\pandas\\compat\\_optional.py:138: UserWarning: Pandas requires version '2.7.0' or newer of 'numexpr' (version '2.6.9' currently installed).\n",
      "  warnings.warn(msg, UserWarning)\n"
     ]
    }
   ],
   "source": [
    "from sklearn import datasets #自带数据集\n",
    "from sklearn.model_selection import train_test_split #数据集划分\n",
    "from sklearn.preprocessing import StandardScaler #标准化\n",
    "import numpy as np\n",
    "from sklearn.linear_model import LogisticRegression\n",
    "#np.set_printoptions(suppress=True)  不用科学计数法表示\n",
    "import matplotlib.pyplot as plt\n",
    "import pandas as pd \n",
    "from sklearn import metrics\n",
    "from sklearn.metrics import classification_report, plot_confusion_matrix, confusion_matrix"
   ]
  },
  {
   "cell_type": "code",
   "execution_count": 2,
   "metadata": {},
   "outputs": [],
   "source": [
    "digits = datasets.load_digits() #手写数字，多类别，十个类别：0-9\n",
    "X, y = digits.data, digits.target\n",
    "X = StandardScaler().fit_transform(X) #标准化\n",
    "\n",
    "#划分数据集\n",
    "X_train, X_test, y_train, y_test = train_test_split(X, y, test_size = 0.3, random_state = 0, shuffle = True, stratify = y)"
   ]
  },
  {
   "cell_type": "code",
   "execution_count": 3,
   "metadata": {
    "collapsed": true
   },
   "outputs": [
    {
     "data": {
      "text/plain": [
       "{'data': array([[ 0.,  0.,  5., ...,  0.,  0.,  0.],\n",
       "        [ 0.,  0.,  0., ..., 10.,  0.,  0.],\n",
       "        [ 0.,  0.,  0., ..., 16.,  9.,  0.],\n",
       "        ...,\n",
       "        [ 0.,  0.,  1., ...,  6.,  0.,  0.],\n",
       "        [ 0.,  0.,  2., ..., 12.,  0.,  0.],\n",
       "        [ 0.,  0., 10., ..., 12.,  1.,  0.]]),\n",
       " 'target': array([0, 1, 2, ..., 8, 9, 8]),\n",
       " 'frame': None,\n",
       " 'feature_names': ['pixel_0_0',\n",
       "  'pixel_0_1',\n",
       "  'pixel_0_2',\n",
       "  'pixel_0_3',\n",
       "  'pixel_0_4',\n",
       "  'pixel_0_5',\n",
       "  'pixel_0_6',\n",
       "  'pixel_0_7',\n",
       "  'pixel_1_0',\n",
       "  'pixel_1_1',\n",
       "  'pixel_1_2',\n",
       "  'pixel_1_3',\n",
       "  'pixel_1_4',\n",
       "  'pixel_1_5',\n",
       "  'pixel_1_6',\n",
       "  'pixel_1_7',\n",
       "  'pixel_2_0',\n",
       "  'pixel_2_1',\n",
       "  'pixel_2_2',\n",
       "  'pixel_2_3',\n",
       "  'pixel_2_4',\n",
       "  'pixel_2_5',\n",
       "  'pixel_2_6',\n",
       "  'pixel_2_7',\n",
       "  'pixel_3_0',\n",
       "  'pixel_3_1',\n",
       "  'pixel_3_2',\n",
       "  'pixel_3_3',\n",
       "  'pixel_3_4',\n",
       "  'pixel_3_5',\n",
       "  'pixel_3_6',\n",
       "  'pixel_3_7',\n",
       "  'pixel_4_0',\n",
       "  'pixel_4_1',\n",
       "  'pixel_4_2',\n",
       "  'pixel_4_3',\n",
       "  'pixel_4_4',\n",
       "  'pixel_4_5',\n",
       "  'pixel_4_6',\n",
       "  'pixel_4_7',\n",
       "  'pixel_5_0',\n",
       "  'pixel_5_1',\n",
       "  'pixel_5_2',\n",
       "  'pixel_5_3',\n",
       "  'pixel_5_4',\n",
       "  'pixel_5_5',\n",
       "  'pixel_5_6',\n",
       "  'pixel_5_7',\n",
       "  'pixel_6_0',\n",
       "  'pixel_6_1',\n",
       "  'pixel_6_2',\n",
       "  'pixel_6_3',\n",
       "  'pixel_6_4',\n",
       "  'pixel_6_5',\n",
       "  'pixel_6_6',\n",
       "  'pixel_6_7',\n",
       "  'pixel_7_0',\n",
       "  'pixel_7_1',\n",
       "  'pixel_7_2',\n",
       "  'pixel_7_3',\n",
       "  'pixel_7_4',\n",
       "  'pixel_7_5',\n",
       "  'pixel_7_6',\n",
       "  'pixel_7_7'],\n",
       " 'target_names': array([0, 1, 2, 3, 4, 5, 6, 7, 8, 9]),\n",
       " 'images': array([[[ 0.,  0.,  5., ...,  1.,  0.,  0.],\n",
       "         [ 0.,  0., 13., ..., 15.,  5.,  0.],\n",
       "         [ 0.,  3., 15., ..., 11.,  8.,  0.],\n",
       "         ...,\n",
       "         [ 0.,  4., 11., ..., 12.,  7.,  0.],\n",
       "         [ 0.,  2., 14., ..., 12.,  0.,  0.],\n",
       "         [ 0.,  0.,  6., ...,  0.,  0.,  0.]],\n",
       " \n",
       "        [[ 0.,  0.,  0., ...,  5.,  0.,  0.],\n",
       "         [ 0.,  0.,  0., ...,  9.,  0.,  0.],\n",
       "         [ 0.,  0.,  3., ...,  6.,  0.,  0.],\n",
       "         ...,\n",
       "         [ 0.,  0.,  1., ...,  6.,  0.,  0.],\n",
       "         [ 0.,  0.,  1., ...,  6.,  0.,  0.],\n",
       "         [ 0.,  0.,  0., ..., 10.,  0.,  0.]],\n",
       " \n",
       "        [[ 0.,  0.,  0., ..., 12.,  0.,  0.],\n",
       "         [ 0.,  0.,  3., ..., 14.,  0.,  0.],\n",
       "         [ 0.,  0.,  8., ..., 16.,  0.,  0.],\n",
       "         ...,\n",
       "         [ 0.,  9., 16., ...,  0.,  0.,  0.],\n",
       "         [ 0.,  3., 13., ..., 11.,  5.,  0.],\n",
       "         [ 0.,  0.,  0., ..., 16.,  9.,  0.]],\n",
       " \n",
       "        ...,\n",
       " \n",
       "        [[ 0.,  0.,  1., ...,  1.,  0.,  0.],\n",
       "         [ 0.,  0., 13., ...,  2.,  1.,  0.],\n",
       "         [ 0.,  0., 16., ..., 16.,  5.,  0.],\n",
       "         ...,\n",
       "         [ 0.,  0., 16., ..., 15.,  0.,  0.],\n",
       "         [ 0.,  0., 15., ..., 16.,  0.,  0.],\n",
       "         [ 0.,  0.,  2., ...,  6.,  0.,  0.]],\n",
       " \n",
       "        [[ 0.,  0.,  2., ...,  0.,  0.,  0.],\n",
       "         [ 0.,  0., 14., ..., 15.,  1.,  0.],\n",
       "         [ 0.,  4., 16., ..., 16.,  7.,  0.],\n",
       "         ...,\n",
       "         [ 0.,  0.,  0., ..., 16.,  2.,  0.],\n",
       "         [ 0.,  0.,  4., ..., 16.,  2.,  0.],\n",
       "         [ 0.,  0.,  5., ..., 12.,  0.,  0.]],\n",
       " \n",
       "        [[ 0.,  0., 10., ...,  1.,  0.,  0.],\n",
       "         [ 0.,  2., 16., ...,  1.,  0.,  0.],\n",
       "         [ 0.,  0., 15., ..., 15.,  0.,  0.],\n",
       "         ...,\n",
       "         [ 0.,  4., 16., ..., 16.,  6.,  0.],\n",
       "         [ 0.,  8., 16., ..., 16.,  8.,  0.],\n",
       "         [ 0.,  1.,  8., ..., 12.,  1.,  0.]]]),\n",
       " 'DESCR': \".. _digits_dataset:\\n\\nOptical recognition of handwritten digits dataset\\n--------------------------------------------------\\n\\n**Data Set Characteristics:**\\n\\n    :Number of Instances: 1797\\n    :Number of Attributes: 64\\n    :Attribute Information: 8x8 image of integer pixels in the range 0..16.\\n    :Missing Attribute Values: None\\n    :Creator: E. Alpaydin (alpaydin '@' boun.edu.tr)\\n    :Date: July; 1998\\n\\nThis is a copy of the test set of the UCI ML hand-written digits datasets\\nhttps://archive.ics.uci.edu/ml/datasets/Optical+Recognition+of+Handwritten+Digits\\n\\nThe data set contains images of hand-written digits: 10 classes where\\neach class refers to a digit.\\n\\nPreprocessing programs made available by NIST were used to extract\\nnormalized bitmaps of handwritten digits from a preprinted form. From a\\ntotal of 43 people, 30 contributed to the training set and different 13\\nto the test set. 32x32 bitmaps are divided into nonoverlapping blocks of\\n4x4 and the number of on pixels are counted in each block. This generates\\nan input matrix of 8x8 where each element is an integer in the range\\n0..16. This reduces dimensionality and gives invariance to small\\ndistortions.\\n\\nFor info on NIST preprocessing routines, see M. D. Garris, J. L. Blue, G.\\nT. Candela, D. L. Dimmick, J. Geist, P. J. Grother, S. A. Janet, and C.\\nL. Wilson, NIST Form-Based Handprint Recognition System, NISTIR 5469,\\n1994.\\n\\n.. topic:: References\\n\\n  - C. Kaynak (1995) Methods of Combining Multiple Classifiers and Their\\n    Applications to Handwritten Digit Recognition, MSc Thesis, Institute of\\n    Graduate Studies in Science and Engineering, Bogazici University.\\n  - E. Alpaydin, C. Kaynak (1998) Cascading Classifiers, Kybernetika.\\n  - Ken Tang and Ponnuthurai N. Suganthan and Xi Yao and A. Kai Qin.\\n    Linear dimensionalityreduction using relevance weighted LDA. School of\\n    Electrical and Electronic Engineering Nanyang Technological University.\\n    2005.\\n  - Claudio Gentile. A New Approximate Maximal Margin Classification\\n    Algorithm. NIPS. 2000.\\n\"}"
      ]
     },
     "execution_count": 3,
     "metadata": {},
     "output_type": "execute_result"
    }
   ],
   "source": [
    "digits"
   ]
  },
  {
   "cell_type": "code",
   "execution_count": 6,
   "metadata": {},
   "outputs": [],
   "source": [
    "#逻辑回归\n",
    "\n",
    "model = LogisticRegression().fit(X_train, y_train) #创建实例并训练模型\n",
    "\n",
    "y_test_pred = model.predict(X_test) #对测试样本进行预测，分类"
   ]
  },
  {
   "cell_type": "code",
   "execution_count": 7,
   "metadata": {},
   "outputs": [
    {
     "data": {
      "text/plain": [
       "array([1, 4, 5, 6, 9, 1, 2, 2, 2, 0, 7, 5, 4, 8, 6, 6, 1, 2, 0, 9, 7, 3,\n",
       "       9, 1, 3, 5, 2, 2, 9, 9, 8, 9, 7, 6, 1, 3, 1, 4, 7, 6, 7, 3, 5, 0,\n",
       "       1, 1, 7, 5, 4, 6, 0, 5, 8, 9, 0, 5, 4, 5, 3, 5, 5, 6, 5, 4, 9, 6,\n",
       "       5, 9, 6, 5, 7, 6, 6, 3, 0, 8, 4, 4, 3, 2, 9, 7, 2, 7, 9, 1, 8, 0,\n",
       "       1, 7, 2, 3, 3, 5, 5, 6, 0, 4, 3, 7, 8, 4, 1, 9, 0, 5, 3, 8, 9, 6,\n",
       "       4, 9, 2, 9, 1, 0, 6, 7, 8, 1, 9, 2, 8, 6, 3, 6, 5, 1, 3, 6, 2, 3,\n",
       "       0, 6, 5, 5, 9, 2, 8, 1, 0, 1, 4, 5, 1, 0, 3, 0, 0, 3, 8, 9, 2, 2,\n",
       "       5, 8, 1, 9, 3, 7, 6, 8, 7, 3, 1, 2, 5, 1, 1, 6, 3, 9, 6, 5, 8, 9,\n",
       "       9, 8, 9, 9, 8, 8, 4, 7, 6, 2, 6, 4, 3, 4, 4, 3, 8, 5, 4, 8, 3, 1,\n",
       "       3, 4, 1, 0, 7, 8, 7, 5, 0, 6, 0, 1, 5, 7, 0, 0, 3, 4, 8, 9, 4, 8,\n",
       "       1, 1, 2, 1, 9, 2, 7, 7, 6, 9, 2, 9, 6, 0, 5, 2, 4, 4, 4, 6, 4, 0,\n",
       "       1, 8, 3, 4, 0, 5, 9, 0, 2, 0, 0, 1, 3, 2, 8, 1, 6, 1, 1, 9, 2, 7,\n",
       "       8, 3, 1, 2, 1, 3, 5, 0, 7, 8, 6, 7, 1, 4, 8, 2, 1, 4, 2, 6, 0, 6,\n",
       "       0, 1, 0, 8, 0, 6, 5, 1, 6, 6, 9, 2, 9, 2, 8, 5, 9, 4, 3, 9, 2, 9,\n",
       "       7, 9, 1, 3, 0, 3, 9, 2, 1, 1, 0, 0, 6, 3, 5, 0, 0, 3, 8, 0, 3, 0,\n",
       "       7, 7, 6, 1, 8, 8, 7, 2, 7, 1, 8, 5, 3, 7, 8, 2, 5, 4, 5, 1, 5, 7,\n",
       "       5, 6, 4, 0, 6, 7, 1, 1, 6, 4, 0, 4, 0, 1, 3, 4, 4, 4, 5, 4, 5, 5,\n",
       "       4, 3, 7, 9, 1, 1, 4, 7, 2, 0, 2, 9, 7, 8, 4, 8, 2, 4, 8, 7, 9, 4,\n",
       "       8, 0, 7, 0, 6, 5, 1, 2, 3, 5, 3, 5, 7, 7, 4, 1, 3, 0, 1, 1, 8, 6,\n",
       "       5, 1, 8, 0, 0, 3, 7, 7, 4, 9, 0, 4, 6, 9, 0, 7, 9, 2, 9, 2, 9, 6,\n",
       "       6, 5, 4, 5, 7, 3, 7, 7, 5, 2, 2, 7, 8, 9, 3, 3, 2, 6, 3, 6, 2, 1,\n",
       "       7, 4, 8, 0, 8, 2, 4, 3, 7, 6, 3, 5, 7, 9, 3, 7, 9, 5, 3, 7, 7, 6,\n",
       "       4, 8, 0, 8, 4, 6, 8, 4, 1, 7, 6, 5, 9, 3, 4, 7, 9, 8, 2, 3, 2, 5,\n",
       "       6, 4, 9, 1, 5, 9, 8, 2, 6, 1, 3, 1, 0, 7, 5, 2, 8, 1, 5, 2, 2, 3,\n",
       "       0, 0, 7, 8, 5, 2, 3, 5, 2, 6, 1, 3])"
      ]
     },
     "execution_count": 7,
     "metadata": {},
     "output_type": "execute_result"
    }
   ],
   "source": [
    "y_test_pred"
   ]
  },
  {
   "cell_type": "code",
   "execution_count": 30,
   "metadata": {},
   "outputs": [
    {
     "name": "stdout",
     "output_type": "stream",
     "text": [
      "各性能指标：\n",
      "test_accuracy = 0.974074, macro_P = 0.975531, micro_R = 0.974074, f1_micro = 0.974074, f1_weight = 0.974311, fbeta = 0.974320\n"
     ]
    },
    {
     "name": "stderr",
     "output_type": "stream",
     "text": [
      "D:\\Users\\msi\\Anaconda3\\lib\\site-packages\\sklearn\\utils\\deprecation.py:87: FutureWarning: Function plot_confusion_matrix is deprecated; Function `plot_confusion_matrix` is deprecated in 1.0 and will be removed in 1.2. Use one of the class methods: ConfusionMatrixDisplay.from_predictions or ConfusionMatrixDisplay.from_estimator.\n",
      "  warnings.warn(msg, category=FutureWarning)\n"
     ]
    },
    {
     "data": {
      "image/png": "[encoded data removed]",
      "text/plain": [
       "<Figure size 720x576 with 2 Axes>"
      ]
     },
     "metadata": {
      "needs_background": "light"
     },
     "output_type": "display_data"
    },
    {
     "name": "stdout",
     "output_type": "stream",
     "text": [
      "混淆矩阵:\n",
      "[[54  0  0  0  0  0  0  0  0  0]\n",
      " [ 0 54  0  0  0  0  0  0  1  0]\n",
      " [ 0  1 52  0  0  0  0  0  0  0]\n",
      " [ 0  0  0 54  0  1  0  0  0  0]\n",
      " [ 0  1  0  0 52  0  0  0  1  0]\n",
      " [ 0  1  0  0  0 53  0  1  0  0]\n",
      " [ 0  1  0  0  0  0 53  0  0  0]\n",
      " [ 0  0  0  0  0  0  0 54  0  0]\n",
      " [ 0  3  0  0  0  1  0  0 48  0]\n",
      " [ 0  0  0  1  0  1  0  0  0 52]]\n",
      "              precision    recall  f1-score   support\n",
      "\n",
      "          n0       1.00      1.00      1.00        54\n",
      "          n1       0.89      0.98      0.93        55\n",
      "          n2       1.00      0.98      0.99        53\n",
      "          n3       0.98      0.98      0.98        55\n",
      "          n4       1.00      0.96      0.98        54\n",
      "          n5       0.95      0.96      0.95        55\n",
      "          n6       1.00      0.98      0.99        54\n",
      "          n7       0.98      1.00      0.99        54\n",
      "          n8       0.96      0.92      0.94        52\n",
      "          n9       1.00      0.96      0.98        54\n",
      "\n",
      "    accuracy                           0.97       540\n",
      "   macro avg       0.98      0.97      0.97       540\n",
      "weighted avg       0.98      0.97      0.97       540\n",
      "\n"
     ]
    }
   ],
   "source": [
    "#逻辑回归\n",
    "\n",
    "model = LogisticRegression().fit(X_train, y_train) #创建实例并训练模型\n",
    "\n",
    "y_test_pred = model.predict(X_test) #对测试样本进行预测，分类\n",
    "\n",
    "#计算模型的泛化能力的性能指标\n",
    "\n",
    "test_acc = metrics.accuracy_score(y_test, y_test_pred) #分类正确率\n",
    "\n",
    "#查准率，混淆矩阵第一列，也叫精确率，查全率,混淆矩阵第一行，也叫召回率\n",
    "macro_P = metrics.precision_score(y_test, y_test_pred, average = \"macro\") #macro为宏查准率\n",
    "#多分类宏查准率，先求所有的混淆矩阵的查准率，然后求平均\n",
    "#多分类微查准率，先将所有混淆矩阵的四个元素平均，然后再求查准率\n",
    "micro_R = metrics.recall_score(y_test, y_test_pred, average = \"micro\") #微查全率(召回率)\n",
    "f1_micro = metrics.f1_score(y_test, y_test_pred, average = \"micro\") #F1\n",
    "f1_weight = metrics.f1_score(y_test, y_test_pred, average = \"weighted\") #加权\n",
    "fbeta = metrics.fbeta_score(y_test, y_test_pred, average = \"macro\", beta = 1) #Fbeta的意思是，召回率的重要程度是精确率的beta倍\n",
    "print(\"各性能指标：\")\n",
    "print(\"test_accuracy = %f, macro_P = %f, micro_R = %f, f1_micro = %f, f1_weight = %f, fbeta = %f\"\n",
    "     %(test_acc, macro_P, micro_R, f1_micro, f1_weight, fbeta))\n",
    "\n",
    "#绘制混淆矩阵\n",
    "fig, ax = plt.subplots(figsize = (10,8))\n",
    "target_names = [] #类别标签设置\n",
    "for i in range(10):\n",
    "    target_names.append(\"n\"+str(i))\n",
    "plot_confusion_matrix(model, X_test, y_test, display_labels = target_names, cmap = plt.cm.Reds, ax = ax)\n",
    "plt.show()"
   ]
  },
  {
   "cell_type": "markdown",
   "metadata": {},
   "source": [
    "## F beta公式\n",
    "$$\n",
    "1/Fb = (1/P+b^{2}/R)/(1+b^{2})\n",
    "$$"
   ]
  },
  {
   "cell_type": "code",
   "execution_count": 31,
   "metadata": {},
   "outputs": [
    {
     "name": "stdout",
     "output_type": "stream",
     "text": [
      "混淆矩阵:\n",
      "[[54  0  0  0  0  0  0  0  0  0]\n",
      " [ 0 54  0  0  0  0  0  0  1  0]\n",
      " [ 0  1 52  0  0  0  0  0  0  0]\n",
      " [ 0  0  0 54  0  1  0  0  0  0]\n",
      " [ 0  1  0  0 52  0  0  0  1  0]\n",
      " [ 0  1  0  0  0 53  0  1  0  0]\n",
      " [ 0  1  0  0  0  0 53  0  0  0]\n",
      " [ 0  0  0  0  0  0  0 54  0  0]\n",
      " [ 0  3  0  0  0  1  0  0 48  0]\n",
      " [ 0  0  0  1  0  1  0  0  0 52]]\n"
     ]
    }
   ],
   "source": [
    "#混淆矩阵输出\n",
    "print(\"混淆矩阵:\")\n",
    "cm = confusion_matrix(y_test, y_test_pred)\n",
    "print(cm)"
   ]
  },
  {
   "cell_type": "code",
   "execution_count": 32,
   "metadata": {},
   "outputs": [
    {
     "name": "stdout",
     "output_type": "stream",
     "text": [
      "              precision    recall  f1-score   support\n",
      "\n",
      "          n0       1.00      1.00      1.00        54\n",
      "          n1       0.89      0.98      0.93        55\n",
      "          n2       1.00      0.98      0.99        53\n",
      "          n3       0.98      0.98      0.98        55\n",
      "          n4       1.00      0.96      0.98        54\n",
      "          n5       0.95      0.96      0.95        55\n",
      "          n6       1.00      0.98      0.99        54\n",
      "          n7       0.98      1.00      0.99        54\n",
      "          n8       0.96      0.92      0.94        52\n",
      "          n9       1.00      0.96      0.98        54\n",
      "\n",
      "    accuracy                           0.97       540\n",
      "   macro avg       0.98      0.97      0.97       540\n",
      "weighted avg       0.98      0.97      0.97       540\n",
      "\n"
     ]
    }
   ],
   "source": [
    "#分类报告\n",
    "cr = classification_report(y_test, y_test_pred, target_names = target_names)\n",
    "print(cr)"
   ]
  },
  {
   "cell_type": "code",
   "execution_count": 34,
   "metadata": {},
   "outputs": [
    {
     "data": {
      "text/html": [
       "<div>\n",
       "<style scoped>\n",
       "    .dataframe tbody tr th:only-of-type {\n",
       "        vertical-align: middle;\n",
       "    }\n",
       "\n",
       "    .dataframe tbody tr th {\n",
       "        vertical-align: top;\n",
       "    }\n",
       "\n",
       "    .dataframe thead th {\n",
       "        text-align: right;\n",
       "    }\n",
       "</style>\n",
       "<table border=\"1\" class=\"dataframe\">\n",
       "  <thead>\n",
       "    <tr style=\"text-align: right;\">\n",
       "      <th></th>\n",
       "      <th>0</th>\n",
       "      <th>1</th>\n",
       "      <th>2</th>\n",
       "      <th>3</th>\n",
       "      <th>4</th>\n",
       "      <th>5</th>\n",
       "      <th>6</th>\n",
       "      <th>7</th>\n",
       "      <th>8</th>\n",
       "      <th>9</th>\n",
       "    </tr>\n",
       "  </thead>\n",
       "  <tbody>\n",
       "    <tr>\n",
       "      <th>precision</th>\n",
       "      <td>1.0</td>\n",
       "      <td>0.885246</td>\n",
       "      <td>1.000000</td>\n",
       "      <td>0.981818</td>\n",
       "      <td>1.000000</td>\n",
       "      <td>0.946429</td>\n",
       "      <td>1.000000</td>\n",
       "      <td>0.981818</td>\n",
       "      <td>0.960000</td>\n",
       "      <td>1.000000</td>\n",
       "    </tr>\n",
       "    <tr>\n",
       "      <th>recall</th>\n",
       "      <td>1.0</td>\n",
       "      <td>0.981818</td>\n",
       "      <td>0.981132</td>\n",
       "      <td>0.981818</td>\n",
       "      <td>0.962963</td>\n",
       "      <td>0.963636</td>\n",
       "      <td>0.981481</td>\n",
       "      <td>1.000000</td>\n",
       "      <td>0.923077</td>\n",
       "      <td>0.962963</td>\n",
       "    </tr>\n",
       "    <tr>\n",
       "      <th>fscore</th>\n",
       "      <td>1.0</td>\n",
       "      <td>0.931034</td>\n",
       "      <td>0.990476</td>\n",
       "      <td>0.981818</td>\n",
       "      <td>0.981132</td>\n",
       "      <td>0.954955</td>\n",
       "      <td>0.990654</td>\n",
       "      <td>0.990826</td>\n",
       "      <td>0.941176</td>\n",
       "      <td>0.981132</td>\n",
       "    </tr>\n",
       "    <tr>\n",
       "      <th>support</th>\n",
       "      <td>54.0</td>\n",
       "      <td>55.000000</td>\n",
       "      <td>53.000000</td>\n",
       "      <td>55.000000</td>\n",
       "      <td>54.000000</td>\n",
       "      <td>55.000000</td>\n",
       "      <td>54.000000</td>\n",
       "      <td>54.000000</td>\n",
       "      <td>52.000000</td>\n",
       "      <td>54.000000</td>\n",
       "    </tr>\n",
       "  </tbody>\n",
       "</table>\n",
       "</div>"
      ],
      "text/plain": [
       "              0          1          2          3          4          5  \\\n",
       "precision   1.0   0.885246   1.000000   0.981818   1.000000   0.946429   \n",
       "recall      1.0   0.981818   0.981132   0.981818   0.962963   0.963636   \n",
       "fscore      1.0   0.931034   0.990476   0.981818   0.981132   0.954955   \n",
       "support    54.0  55.000000  53.000000  55.000000  54.000000  55.000000   \n",
       "\n",
       "                   6          7          8          9  \n",
       "precision   1.000000   0.981818   0.960000   1.000000  \n",
       "recall      0.981481   1.000000   0.923077   0.962963  \n",
       "fscore      0.990654   0.990826   0.941176   0.981132  \n",
       "support    54.000000  54.000000  52.000000  54.000000  "
      ]
     },
     "execution_count": 34,
     "metadata": {},
     "output_type": "execute_result"
    }
   ],
   "source": [
    "prfs = metrics.precision_recall_fscore_support(y_test, y_test_pred)\n",
    "pd.DataFrame(prfs, index = ['precision', 'recall', 'fscore', 'support'],)"
   ]
  },
  {
   "cell_type": "code",
   "execution_count": 35,
   "metadata": {},
   "outputs": [
    {
     "data": {
      "text/plain": [
       "array([[54,  0,  0,  0,  0,  0,  0,  0,  0,  0],\n",
       "       [ 0, 54,  0,  0,  0,  0,  0,  0,  1,  0],\n",
       "       [ 0,  1, 52,  0,  0,  0,  0,  0,  0,  0],\n",
       "       [ 0,  0,  0, 54,  0,  1,  0,  0,  0,  0],\n",
       "       [ 0,  1,  0,  0, 52,  0,  0,  0,  1,  0],\n",
       "       [ 0,  1,  0,  0,  0, 53,  0,  1,  0,  0],\n",
       "       [ 0,  1,  0,  0,  0,  0, 53,  0,  0,  0],\n",
       "       [ 0,  0,  0,  0,  0,  0,  0, 54,  0,  0],\n",
       "       [ 0,  3,  0,  0,  0,  1,  0,  0, 48,  0],\n",
       "       [ 0,  0,  0,  1,  0,  1,  0,  0,  0, 52]], dtype=int64)"
      ]
     },
     "execution_count": 35,
     "metadata": {},
     "output_type": "execute_result"
    }
   ],
   "source": [
    "cm"
   ]
  },
  {
   "cell_type": "code",
   "execution_count": 67,
   "metadata": {},
   "outputs": [
    {
     "data": {
      "text/html": [
       "<div>\n",
       "<style scoped>\n",
       "    .dataframe tbody tr th:only-of-type {\n",
       "        vertical-align: middle;\n",
       "    }\n",
       "\n",
       "    .dataframe tbody tr th {\n",
       "        vertical-align: top;\n",
       "    }\n",
       "\n",
       "    .dataframe thead th {\n",
       "        text-align: right;\n",
       "    }\n",
       "</style>\n",
       "<table border=\"1\" class=\"dataframe\">\n",
       "  <thead>\n",
       "    <tr style=\"text-align: right;\">\n",
       "      <th></th>\n",
       "      <th>precision</th>\n",
       "      <th>recall</th>\n",
       "      <th>fscore</th>\n",
       "      <th>support</th>\n",
       "    </tr>\n",
       "  </thead>\n",
       "  <tbody>\n",
       "    <tr>\n",
       "      <th>n0</th>\n",
       "      <td>1</td>\n",
       "      <td>1</td>\n",
       "      <td>1</td>\n",
       "      <td>54</td>\n",
       "    </tr>\n",
       "    <tr>\n",
       "      <th>n1</th>\n",
       "      <td>0.885246</td>\n",
       "      <td>0.981818</td>\n",
       "      <td>0.931034</td>\n",
       "      <td>55</td>\n",
       "    </tr>\n",
       "    <tr>\n",
       "      <th>n2</th>\n",
       "      <td>1</td>\n",
       "      <td>0.981132</td>\n",
       "      <td>0.990476</td>\n",
       "      <td>53</td>\n",
       "    </tr>\n",
       "    <tr>\n",
       "      <th>n3</th>\n",
       "      <td>0.981818</td>\n",
       "      <td>0.981818</td>\n",
       "      <td>0.981818</td>\n",
       "      <td>55</td>\n",
       "    </tr>\n",
       "    <tr>\n",
       "      <th>n4</th>\n",
       "      <td>1</td>\n",
       "      <td>0.962963</td>\n",
       "      <td>0.981132</td>\n",
       "      <td>54</td>\n",
       "    </tr>\n",
       "    <tr>\n",
       "      <th>n5</th>\n",
       "      <td>0.946429</td>\n",
       "      <td>0.963636</td>\n",
       "      <td>0.954955</td>\n",
       "      <td>55</td>\n",
       "    </tr>\n",
       "    <tr>\n",
       "      <th>n6</th>\n",
       "      <td>1</td>\n",
       "      <td>0.981481</td>\n",
       "      <td>0.990654</td>\n",
       "      <td>54</td>\n",
       "    </tr>\n",
       "    <tr>\n",
       "      <th>n7</th>\n",
       "      <td>0.981818</td>\n",
       "      <td>1</td>\n",
       "      <td>0.990826</td>\n",
       "      <td>54</td>\n",
       "    </tr>\n",
       "    <tr>\n",
       "      <th>n8</th>\n",
       "      <td>0.96</td>\n",
       "      <td>0.923077</td>\n",
       "      <td>0.941176</td>\n",
       "      <td>52</td>\n",
       "    </tr>\n",
       "    <tr>\n",
       "      <th>n9</th>\n",
       "      <td>1</td>\n",
       "      <td>0.962963</td>\n",
       "      <td>0.981132</td>\n",
       "      <td>54</td>\n",
       "    </tr>\n",
       "    <tr>\n",
       "      <th></th>\n",
       "      <td></td>\n",
       "      <td></td>\n",
       "      <td></td>\n",
       "      <td></td>\n",
       "    </tr>\n",
       "    <tr>\n",
       "      <th>accuracy</th>\n",
       "      <td></td>\n",
       "      <td></td>\n",
       "      <td>0.974074</td>\n",
       "      <td>540</td>\n",
       "    </tr>\n",
       "    <tr>\n",
       "      <th>macro_avg</th>\n",
       "      <td>0.975531</td>\n",
       "      <td>0.973889</td>\n",
       "      <td>0.974709</td>\n",
       "      <td>540</td>\n",
       "    </tr>\n",
       "    <tr>\n",
       "      <th>weighted_avg</th>\n",
       "      <td>0.975334</td>\n",
       "      <td>0.974074</td>\n",
       "      <td>0.974311</td>\n",
       "      <td>540</td>\n",
       "    </tr>\n",
       "  </tbody>\n",
       "</table>\n",
       "</div>"
      ],
      "text/plain": [
       "             precision    recall    fscore support\n",
       "n0                   1         1         1      54\n",
       "n1            0.885246  0.981818  0.931034      55\n",
       "n2                   1  0.981132  0.990476      53\n",
       "n3            0.981818  0.981818  0.981818      55\n",
       "n4                   1  0.962963  0.981132      54\n",
       "n5            0.946429  0.963636  0.954955      55\n",
       "n6                   1  0.981481  0.990654      54\n",
       "n7            0.981818         1  0.990826      54\n",
       "n8                0.96  0.923077  0.941176      52\n",
       "n9                   1  0.962963  0.981132      54\n",
       "                                                  \n",
       "accuracy                          0.974074     540\n",
       "macro_avg     0.975531  0.973889  0.974709     540\n",
       "weighted_avg  0.975334  0.974074  0.974311     540"
      ]
     },
     "execution_count": 67,
     "metadata": {},
     "output_type": "execute_result"
    }
   ],
   "source": [
    "precision = np.diag(cm) / np.sum(cm, axis=0) #查准率, axis = 0表示按列计算\n",
    "recall = np.diag(cm) / np.sum(cm, axis = 1) #召回率\n",
    "f1_score = 2*precision*recall / (precision + recall) #F1\n",
    "support = np.sum(cm, axis = 1) #各类别测试样本数量\n",
    "support_all = np.sum(cm) #总测试样本量\n",
    "accuracy = np.sum(np.diag(cm)) / support_all #正确率\n",
    "#宏查准率，宏查全率，宏F1\n",
    "macro_avg = [precision.mean(), recall.mean(), \n",
    "            2*precision.mean()*recall.mean()/(precision.mean()+recall.mean())]\n",
    "#加权查准率， 加权查全率， 加权F1\n",
    "weight = support / support_all\n",
    "weighted_avg = [np.sum(weight*precision), np.sum(weight*recall), np.sum(weight*f1_score)]\n",
    "\n",
    "metrics1 = pd.DataFrame(np.array([precision, recall, f1_score, support]).T,\n",
    "                       columns = ['precision', 'recall', 'fscore', 'support']) #将array合并，然后转置\n",
    "metrics2 = pd.DataFrame([['','','',''], ['','',accuracy, support_all],\n",
    "                       np.hstack([macro_avg, support_all]),\n",
    "                       np.hstack([weighted_avg, support_all])],\n",
    "                       columns = ['precision', 'recall', 'fscore', 'support'])\n",
    "metrics = pd.concat([metrics1, metrics2], ignore_index = False)\n",
    "\n",
    "target_names = [] #类别标签设置\n",
    "for i in range(10):\n",
    "    target_names.append(\"n\"+str(i))\n",
    "    \n",
    "target_names.extend(['','accuracy','macro_avg','weighted_avg'])\n",
    "metrics.index = target_names\n",
    "metrics"
   ]
  },
  {
   "cell_type": "code",
   "execution_count": 64,
   "metadata": {},
   "outputs": [
    {
     "data": {
      "text/plain": [
       "['n0',\n",
       " 'n1',\n",
       " 'n2',\n",
       " 'n3',\n",
       " 'n4',\n",
       " 'n5',\n",
       " 'n6',\n",
       " 'n7',\n",
       " 'n8',\n",
       " 'n9',\n",
       " '',\n",
       " 'accuracy',\n",
       " 'macro_avg',\n",
       " 'weighted_avg',\n",
       " '',\n",
       " 'accuracy',\n",
       " 'macro_avg',\n",
       " 'weighted_avg',\n",
       " '',\n",
       " 'accuracy',\n",
       " 'macro_avg',\n",
       " 'weighted_avg']"
      ]
     },
     "execution_count": 64,
     "metadata": {},
     "output_type": "execute_result"
    }
   ],
   "source": [
    "target_names.extend(['','accuracy','macro_avg','weighted_avg'])\n",
    "target_names"
   ]
  },
  {
   "cell_type": "code",
   "execution_count": 58,
   "metadata": {},
   "outputs": [
    {
     "data": {
      "text/plain": [
       "540"
      ]
     },
     "execution_count": 58,
     "metadata": {},
     "output_type": "execute_result"
    }
   ],
   "source": [
    "support_all"
   ]
  },
  {
   "cell_type": "code",
   "execution_count": 59,
   "metadata": {},
   "outputs": [
    {
     "data": {
      "text/plain": [
       "array([  0.97553108,   0.97388891,   0.97470931, 540.        ])"
      ]
     },
     "execution_count": 59,
     "metadata": {},
     "output_type": "execute_result"
    }
   ],
   "source": [
    "np.hstack([macro_avg, support_all])"
   ]
  },
  {
   "cell_type": "code",
   "execution_count": 56,
   "metadata": {},
   "outputs": [
    {
     "data": {
      "text/plain": [
       "array([[ 1.        ,  0.8852459 ,  1.        ,  0.98181818,  1.        ,\n",
       "         0.94642857,  1.        ,  0.98181818,  0.96      ,  1.        ],\n",
       "       [ 1.        ,  0.98181818,  0.98113208,  0.98181818,  0.96296296,\n",
       "         0.96363636,  0.98148148,  1.        ,  0.92307692,  0.96296296],\n",
       "       [ 1.        ,  0.93103448,  0.99047619,  0.98181818,  0.98113208,\n",
       "         0.95495495,  0.99065421,  0.99082569,  0.94117647,  0.98113208],\n",
       "       [54.        , 55.        , 53.        , 55.        , 54.        ,\n",
       "        55.        , 54.        , 54.        , 52.        , 54.        ]])"
      ]
     },
     "execution_count": 56,
     "metadata": {},
     "output_type": "execute_result"
    }
   ],
   "source": [
    "np.array([precision, recall, f1_score, support])"
   ]
  }
 ],
 "metadata": {
  "kernelspec": {
   "display_name": "Python 3",
   "language": "python",
   "name": "python3"
  },
  "language_info": {
   "codemirror_mode": {
    "name": "ipython",
    "version": 3
   },
   "file_extension": ".py",
   "mimetype": "text/x-python",
   "name": "python",
   "nbconvert_exporter": "python",
   "pygments_lexer": "ipython3",
   "version": "3.7.3"
  }
 },
 "nbformat": 4,
 "nbformat_minor": 2
}
