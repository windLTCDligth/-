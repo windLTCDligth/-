{
 "cells": [
  {
   "cell_type": "code",
   "execution_count": 1,
   "metadata": {},
   "outputs": [],
   "source": [
    "from sklearn.model_selection import train_test_split #数据集划分\n",
    "from sklearn.preprocessing import StandardScaler #标准化\n",
    "import numpy as np\n",
    "from sklearn.linear_model import LogisticRegression\n",
    "#np.set_printoptions(suppress=True)  不用科学计数法表示\n",
    "import matplotlib.pyplot as plt\n",
    "import pandas as pd\n",
    "from sklearn.metrics import accuracy_score"
   ]
  },
  {
   "cell_type": "code",
   "execution_count": 3,
   "metadata": {},
   "outputs": [],
   "source": [
    "df = pd.read_csv(\"data.csv\")\n",
    "df = df.iloc[:, 1::]"
   ]
  },
  {
   "cell_type": "code",
   "execution_count": 4,
   "metadata": {},
   "outputs": [],
   "source": [
    "X = StandardScaler().fit_transform(df.iloc[:,0:5]) #标准化\n",
    "X_train,X_test,y_train,y_test = train_test_split(X,df['target'].values,test_size=0.2)"
   ]
  },
  {
   "cell_type": "code",
   "execution_count": 5,
   "metadata": {
    "collapsed": true
   },
   "outputs": [
    {
     "name": "stdout",
     "output_type": "stream",
     "text": [
      "[[-1.25076721  1.19653624  0.58368282  0.08762279  0.47160768]\n",
      " [ 0.77236316 -0.99287646 -0.45888431 -0.57482382  0.00184295]\n",
      " [-0.36888987  0.61523021 -0.85972101 -1.18005781 -0.69518585]\n",
      " ...\n",
      " [-0.12680589  0.28543549 -1.22811333 -1.03557851  1.11769709]\n",
      " [-1.31993406  1.19081968  0.9830002  -0.55941506  0.64055061]\n",
      " [-1.02021104  1.10152864  0.35340822  0.25722834  1.34553795]]\n",
      "(98083, 5)\n",
      "[[-1.60812927  1.17713922  1.63973984 -1.3754912  -1.67399519]\n",
      " [ 0.1440976  -0.19095119 -1.17167983 -0.18848753 -0.31544987]\n",
      " [ 0.23632007 -0.24157782 -1.22048861  1.65340987 -0.53533676]\n",
      " ...\n",
      " [ 1.44673995 -1.39907255  1.21714481  0.99763778  1.26511186]\n",
      " [-1.20465597  1.24304681  0.58290177 -1.38930676 -2.116926  ]\n",
      " [-0.71472412  0.99943676 -0.27377523 -0.08475293  0.01050337]]\n",
      "(24521, 5)\n",
      "[3 1 3 ... 3 0 0]\n",
      "(98083,)\n",
      "[1 3 1 ... 2 2 3]\n",
      "(24521,)\n"
     ]
    }
   ],
   "source": [
    "print(X_train)\n",
    "print(X_train.shape)\n",
    "print(X_test)\n",
    "print(X_test.shape)\n",
    "print(y_train)\n",
    "print(y_train.shape)\n",
    "print(y_test)\n",
    "print(y_test.shape)"
   ]
  },
  {
   "cell_type": "code",
   "execution_count": 9,
   "metadata": {},
   "outputs": [
    {
     "name": "stdout",
     "output_type": "stream",
     "text": [
      "0.9606251847924717\n",
      "0.8865870070551772\n"
     ]
    }
   ],
   "source": [
    "#决策树\n",
    "from sklearn.metrics import accuracy_score\n",
    "from sklearn.tree import DecisionTreeClassifier\n",
    "clf = DecisionTreeClassifier() #创建模型实例\n",
    "clf.fit(X_train,y_train)#训练样本\n",
    "y_train_pred = clf.predict(X_train)#训练样本预测，经验误差\n",
    "y_test_pred = clf.predict(X_test)#测试样本训练，泛化误差\n",
    "print(accuracy_score(y_train,y_train_pred))\n",
    "print(accuracy_score(y_test,y_test_pred))"
   ]
  },
  {
   "cell_type": "code",
   "execution_count": 7,
   "metadata": {},
   "outputs": [
    {
     "name": "stdout",
     "output_type": "stream",
     "text": [
      "0.9450567376609607\n",
      "0.9019615839484524\n"
     ]
    }
   ],
   "source": [
    "#knn\n",
    "from sklearn.neighbors import KNeighborsClassifier\n",
    "model = KNeighborsClassifier() #创建模型实例\n",
    "model.fit(X_train,y_train)#训练样本\n",
    "y_train_pred = model.predict(X_train)#训练样本预测，经验误差\n",
    "y_test_pred = model.predict(X_test)#测试样本训练，泛化误差\n",
    "print(accuracy_score(y_train,y_train_pred)) #训练精度\n",
    "print(accuracy_score(y_test,y_test_pred))#测试精度"
   ]
  },
  {
   "cell_type": "markdown",
   "metadata": {},
   "source": [
    "## 网格搜索调参"
   ]
  },
  {
   "cell_type": "code",
   "execution_count": 9,
   "metadata": {
    "collapsed": true
   },
   "outputs": [
    {
     "name": "stderr",
     "output_type": "stream",
     "text": [
      "D:\\Users\\msi\\Anaconda3\\lib\\site-packages\\ipykernel_launcher.py:4: DeprecationWarning: time.clock has been deprecated in Python 3.3 and will be removed from Python 3.8: use time.perf_counter or time.process_time instead\n",
      "  after removing the cwd from sys.path.\n"
     ]
    },
    {
     "name": "stdout",
     "output_type": "stream",
     "text": [
      "================================================================================\n",
      "Best: 0.921495 using {'algorithm': 'brute', 'n_neighbors': 17, 'p': 1}\n",
      "--------------------------------------------------------------------------------\n",
      "0.908537 with: {'algorithm': 'ball_tree', 'n_neighbors': 3, 'p': 1}\n",
      "0.903174 with: {'algorithm': 'ball_tree', 'n_neighbors': 3, 'p': 2}\n",
      "0.914032 with: {'algorithm': 'ball_tree', 'n_neighbors': 5, 'p': 1}\n",
      "0.907374 with: {'algorithm': 'ball_tree', 'n_neighbors': 5, 'p': 2}\n",
      "0.916703 with: {'algorithm': 'ball_tree', 'n_neighbors': 7, 'p': 1}\n",
      "0.910484 with: {'algorithm': 'ball_tree', 'n_neighbors': 7, 'p': 2}\n",
      "0.918793 with: {'algorithm': 'ball_tree', 'n_neighbors': 9, 'p': 1}\n",
      "0.911422 with: {'algorithm': 'ball_tree', 'n_neighbors': 9, 'p': 2}\n",
      "0.919578 with: {'algorithm': 'ball_tree', 'n_neighbors': 11, 'p': 1}\n",
      "0.912115 with: {'algorithm': 'ball_tree', 'n_neighbors': 11, 'p': 2}\n",
      "0.920506 with: {'algorithm': 'ball_tree', 'n_neighbors': 13, 'p': 1}\n",
      "0.912105 with: {'algorithm': 'ball_tree', 'n_neighbors': 13, 'p': 2}\n",
      "0.920894 with: {'algorithm': 'ball_tree', 'n_neighbors': 15, 'p': 1}\n",
      "0.911799 with: {'algorithm': 'ball_tree', 'n_neighbors': 15, 'p': 2}\n",
      "0.921199 with: {'algorithm': 'ball_tree', 'n_neighbors': 17, 'p': 1}\n",
      "0.911565 with: {'algorithm': 'ball_tree', 'n_neighbors': 17, 'p': 2}\n",
      "0.908628 with: {'algorithm': 'kd_tree', 'n_neighbors': 3, 'p': 1}\n",
      "0.903388 with: {'algorithm': 'kd_tree', 'n_neighbors': 3, 'p': 2}\n",
      "0.914093 with: {'algorithm': 'kd_tree', 'n_neighbors': 5, 'p': 1}\n",
      "0.907752 with: {'algorithm': 'kd_tree', 'n_neighbors': 5, 'p': 2}\n",
      "0.916662 with: {'algorithm': 'kd_tree', 'n_neighbors': 7, 'p': 1}\n",
      "0.910005 with: {'algorithm': 'kd_tree', 'n_neighbors': 7, 'p': 2}\n",
      "0.918589 with: {'algorithm': 'kd_tree', 'n_neighbors': 9, 'p': 1}\n",
      "0.911412 with: {'algorithm': 'kd_tree', 'n_neighbors': 9, 'p': 2}\n",
      "0.919589 with: {'algorithm': 'kd_tree', 'n_neighbors': 11, 'p': 1}\n",
      "0.911962 with: {'algorithm': 'kd_tree', 'n_neighbors': 11, 'p': 2}\n",
      "0.920302 with: {'algorithm': 'kd_tree', 'n_neighbors': 13, 'p': 1}\n",
      "0.912126 with: {'algorithm': 'kd_tree', 'n_neighbors': 13, 'p': 2}\n",
      "0.920792 with: {'algorithm': 'kd_tree', 'n_neighbors': 15, 'p': 1}\n",
      "0.911779 with: {'algorithm': 'kd_tree', 'n_neighbors': 15, 'p': 2}\n",
      "0.921240 with: {'algorithm': 'kd_tree', 'n_neighbors': 17, 'p': 1}\n",
      "0.911942 with: {'algorithm': 'kd_tree', 'n_neighbors': 17, 'p': 2}\n",
      "0.908343 with: {'algorithm': 'brute', 'n_neighbors': 3, 'p': 1}\n",
      "0.903113 with: {'algorithm': 'brute', 'n_neighbors': 3, 'p': 2}\n",
      "0.914134 with: {'algorithm': 'brute', 'n_neighbors': 5, 'p': 1}\n",
      "0.907833 with: {'algorithm': 'brute', 'n_neighbors': 5, 'p': 2}\n",
      "0.916887 with: {'algorithm': 'brute', 'n_neighbors': 7, 'p': 1}\n",
      "0.909760 with: {'algorithm': 'brute', 'n_neighbors': 7, 'p': 2}\n",
      "0.918569 with: {'algorithm': 'brute', 'n_neighbors': 9, 'p': 1}\n",
      "0.911850 with: {'algorithm': 'brute', 'n_neighbors': 9, 'p': 2}\n",
      "0.919507 with: {'algorithm': 'brute', 'n_neighbors': 11, 'p': 1}\n",
      "0.911922 with: {'algorithm': 'brute', 'n_neighbors': 11, 'p': 2}\n",
      "0.920190 with: {'algorithm': 'brute', 'n_neighbors': 13, 'p': 1}\n",
      "0.911850 with: {'algorithm': 'brute', 'n_neighbors': 13, 'p': 2}\n",
      "0.920649 with: {'algorithm': 'brute', 'n_neighbors': 15, 'p': 1}\n",
      "0.911932 with: {'algorithm': 'brute', 'n_neighbors': 15, 'p': 2}\n",
      "0.921495 with: {'algorithm': 'brute', 'n_neighbors': 17, 'p': 1}\n",
      "0.911565 with: {'algorithm': 'brute', 'n_neighbors': 17, 'p': 2}\n",
      "Running time: 3010.9861312 Seconds\n"
     ]
    },
    {
     "name": "stderr",
     "output_type": "stream",
     "text": [
      "D:\\Users\\msi\\Anaconda3\\lib\\site-packages\\ipykernel_launcher.py:37: DeprecationWarning: time.clock has been deprecated in Python 3.3 and will be removed from Python 3.8: use time.perf_counter or time.process_time instead\n"
     ]
    }
   ],
   "source": [
    "#KNN\n",
    "import time\n",
    "from sklearn.model_selection import GridSearchCV,train_test_split,StratifiedKFold\n",
    "#划分数据集\n",
    "start =time.clock()\n",
    "X = StandardScaler().fit_transform(df.iloc[:,0:5]) #标准化\n",
    "X_train,X_test,y_train,y_test = train_test_split(X,df['target'].values,test_size=0.2)\n",
    "\n",
    "knn_model = KNeighborsClassifier() #创建K近邻算法实例\n",
    "\n",
    "#超参数设置调优\n",
    "n_neighbors = [3,5,7,9,11,13,15,17] #近邻样本数\n",
    "\n",
    "algorithm = [\"ball_tree\",\"kd_tree\",\"brute\"] #采样的算法\n",
    "\n",
    "p=[1,2] #距离度量， 1：曼哈顿距离 2：欧氏距离\n",
    "\n",
    "param_grid = dict(n_neighbors = n_neighbors,algorithm = algorithm ,p = p) #参数网格\n",
    "\n",
    "kflod = StratifiedKFold(n_splits=10,shuffle=True,random_state=0) #分层采样交叉验证\n",
    "\n",
    "grid_search = GridSearchCV(knn_model, param_grid, scoring = \"accuracy\", cv = kflod) #网格搜索\n",
    "\n",
    "grid_result = grid_search.fit(X_train,y_train)  #运行网格搜索，拟合数据\n",
    "\n",
    "print(\"=\" * 80)\n",
    "\n",
    "print(\"Best: %f using %s\"%(grid_result.best_score_,grid_result.best_params_))\n",
    "\n",
    "print(\"-\" * 80)\n",
    "\n",
    "means = grid_result.cv_results_[\"mean_test_score\"]\n",
    "\n",
    "params = grid_result.cv_results_['params']\n",
    "\n",
    "for means,params in zip(means,params):\n",
    "    print(\"%f with: %r\"% (means,params))\n",
    "end = time.clock()   \n",
    "print('Running time: %s Seconds'%(end-start))    "
   ]
  },
  {
   "cell_type": "code",
   "execution_count": 14,
   "metadata": {},
   "outputs": [
    {
     "name": "stdout",
     "output_type": "stream",
     "text": [
      "各性能指标：\n",
      "test_accuracy = 0.914155, macro_P = 0.914671, micro_R = 0.914155, f1_micro = 0.914155, f1_weight = 0.914467, fbeta = 0.914289\n"
     ]
    },
    {
     "name": "stderr",
     "output_type": "stream",
     "text": [
      "D:\\Users\\msi\\Anaconda3\\lib\\site-packages\\sklearn\\utils\\deprecation.py:87: FutureWarning: Function plot_confusion_matrix is deprecated; Function `plot_confusion_matrix` is deprecated in 1.0 and will be removed in 1.2. Use one of the class methods: ConfusionMatrixDisplay.from_predictions or ConfusionMatrixDisplay.from_estimator.\n",
      "  warnings.warn(msg, category=FutureWarning)\n"
     ]
    },
    {
     "data": {
      "image/png": "[encoded data removed]",
      "text/plain": [
       "<Figure size 720x576 with 2 Axes>"
      ]
     },
     "metadata": {
      "needs_background": "light"
     },
     "output_type": "display_data"
    }
   ],
   "source": [
    "from sklearn import metrics\n",
    "from sklearn.metrics import classification_report, plot_confusion_matrix, confusion_matrix\n",
    "\n",
    "\n",
    "model = KNeighborsClassifier(n_neighbors = grid_result.best_params_[\"n_neighbors\"],\n",
    "                            algorithm = grid_result.best_params_['algorithm'],\n",
    "                            p = grid_result.best_params_['p'])\n",
    "model.fit(X_train,y_train)\n",
    "\n",
    "y_test_pred = model.predict(X_test) #对测试样本进行预测，分类\n",
    "\n",
    "#计算模型的泛化能力的性能指标\n",
    "\n",
    "test_acc = metrics.accuracy_score(y_test, y_test_pred) #分类正确率\n",
    "\n",
    "#查准率，混淆矩阵第一列，也叫精确率，查全率,混淆矩阵第一行，也叫召回率\n",
    "macro_P = metrics.precision_score(y_test, y_test_pred, average = \"macro\") #macro为宏查准率\n",
    "#多分类宏查准率，先求所有的混淆矩阵的查准率，然后求平均\n",
    "#多分类微查准率，先将所有混淆矩阵的四个元素平均，然后再求查准率\n",
    "micro_R = metrics.recall_score(y_test, y_test_pred, average = \"micro\") #微查全率(召回率)\n",
    "f1_micro = metrics.f1_score(y_test, y_test_pred, average = \"micro\") #F1\n",
    "f1_weight = metrics.f1_score(y_test, y_test_pred, average = \"weighted\") #加权\n",
    "fbeta = metrics.fbeta_score(y_test, y_test_pred, average = \"macro\", beta = 1) #Fbeta的意思是，召回率的重要程度是精确率的beta倍\n",
    "print(\"各性能指标：\")\n",
    "print(\"test_accuracy = %f, macro_P = %f, micro_R = %f, f1_micro = %f, f1_weight = %f, fbeta = %f\"\n",
    "     %(test_acc, macro_P, micro_R, f1_micro, f1_weight, fbeta))\n",
    "\n",
    "#绘制混淆矩阵\n",
    "fig, ax = plt.subplots(figsize = (10,8))\n",
    "plot_confusion_matrix(model, X_test, y_test, cmap = plt.cm.Reds, ax = ax)\n",
    "plt.show()"
   ]
  },
  {
   "cell_type": "code",
   "execution_count": 18,
   "metadata": {
    "scrolled": false
   },
   "outputs": [
    {
     "name": "stderr",
     "output_type": "stream",
     "text": [
      "D:\\Users\\msi\\Anaconda3\\lib\\site-packages\\ipykernel_launcher.py:6: DeprecationWarning: time.clock has been deprecated in Python 3.3 and will be removed from Python 3.8: use time.perf_counter or time.process_time instead\n",
      "  \n"
     ]
    },
    {
     "name": "stdout",
     "output_type": "stream",
     "text": [
      "================================================================================\n",
      "Best: 0.894120 using {'criterion': 'entropy', 'splitter': 'random'}\n",
      "--------------------------------------------------------------------------------\n",
      "0.888258 with: {'criterion': 'gini', 'splitter': 'best'}\n",
      "0.893519 with: {'criterion': 'gini', 'splitter': 'random'}\n",
      "0.892142 with: {'criterion': 'entropy', 'splitter': 'best'}\n",
      "0.894120 with: {'criterion': 'entropy', 'splitter': 'random'}\n",
      "Running time: 22.02952119999827 Seconds\n"
     ]
    },
    {
     "name": "stderr",
     "output_type": "stream",
     "text": [
      "D:\\Users\\msi\\Anaconda3\\lib\\site-packages\\ipykernel_launcher.py:25: DeprecationWarning: time.clock has been deprecated in Python 3.3 and will be removed from Python 3.8: use time.perf_counter or time.process_time instead\n"
     ]
    }
   ],
   "source": [
    "#决策树\n",
    "import time\n",
    "from sklearn.tree import DecisionTreeClassifier\n",
    "from sklearn.model_selection import GridSearchCV,train_test_split,StratifiedKFold\n",
    "#划分数据集\n",
    "start =time.clock()\n",
    "X = StandardScaler().fit_transform(df.iloc[:,0:5]) #标准化\n",
    "X_train,X_test,y_train,y_test = train_test_split(X,df['target'].values,test_size=0.2)\n",
    "knn_model = DecisionTreeClassifier() #创建K近邻算法实例\n",
    "#超参数设置调优\n",
    "# max_depth = [3,4,5,6,8,10] #最大深度\n",
    "criterion = ['gini', 'entropy'] #特征选择方法，基尼系数和信息熵\n",
    "splitter = ['best', 'random'] # 拆分策略\n",
    "param_grid = dict(criterion = criterion ,splitter = splitter) #参数网格\n",
    "kflod = StratifiedKFold(n_splits=10,shuffle=True,random_state=0) #分层采样交叉验证\n",
    "grid_search = GridSearchCV(knn_model, param_grid, scoring = \"accuracy\", cv = kflod) #网格搜索\n",
    "grid_result = grid_search.fit(X_train,y_train)  #运行网格搜索，拟合数据\n",
    "print(\"=\" * 80)\n",
    "print(\"Best: %f using %s\"%(grid_result.best_score_,grid_result.best_params_))\n",
    "print(\"-\" * 80)\n",
    "means = grid_result.cv_results_[\"mean_test_score\"]\n",
    "params = grid_result.cv_results_['params']\n",
    "for means,params in zip(means,params):\n",
    "    print(\"%f with: %r\"% (means,params))\n",
    "end = time.clock()   \n",
    "print('Running time: %s Seconds'%(end-start))    "
   ]
  },
  {
   "cell_type": "code",
   "execution_count": 20,
   "metadata": {},
   "outputs": [
    {
     "name": "stdout",
     "output_type": "stream",
     "text": [
      "各性能指标：\n",
      "test_accuracy = 0.894947, macro_P = 0.894617, macro_R = 0.894947, f1_macro = 0.893357, f1_weight = 0.895094, fbeta = 0.894316\n"
     ]
    },
    {
     "name": "stderr",
     "output_type": "stream",
     "text": [
      "D:\\Users\\msi\\Anaconda3\\lib\\site-packages\\sklearn\\utils\\deprecation.py:87: FutureWarning: Function plot_confusion_matrix is deprecated; Function `plot_confusion_matrix` is deprecated in 1.0 and will be removed in 1.2. Use one of the class methods: ConfusionMatrixDisplay.from_predictions or ConfusionMatrixDisplay.from_estimator.\n",
      "  warnings.warn(msg, category=FutureWarning)\n"
     ]
    },
    {
     "data": {
      "image/png": "[encoded data removed]",
      "text/plain": [
       "<Figure size 720x576 with 2 Axes>"
      ]
     },
     "metadata": {
      "needs_background": "light"
     },
     "output_type": "display_data"
    }
   ],
   "source": [
    "from sklearn import metrics\n",
    "from sklearn.metrics import classification_report, plot_confusion_matrix, confusion_matrix\n",
    "\n",
    "\n",
    "model = DecisionTreeClassifier(criterion = 'entropy',splitter = 'random')\n",
    "model.fit(X_train,y_train)\n",
    "\n",
    "y_test_pred = model.predict(X_test) #对测试样本进行预测，分类\n",
    "\n",
    "#计算模型的泛化能力的性能指标\n",
    "\n",
    "test_acc = metrics.accuracy_score(y_test, y_test_pred) #分类正确率\n",
    "\n",
    "#查准率，混淆矩阵第一列，也叫精确率，查全率,混淆矩阵第一行，也叫召回率\n",
    "macro_P = metrics.precision_score(y_test, y_test_pred, average = \"macro\") #macro为宏查准率,宏精确率\n",
    "#多分类宏查准率，先求所有的混淆矩阵的查准率，然后求平均\n",
    "#多分类微查准率，先将所有混淆矩阵的四个元素平均，然后再求查准率\n",
    "macro_R = metrics.recall_score(y_test, y_test_pred, average = \"macro\") #宏查全率(召回率)\n",
    "f1_macro = metrics.f1_score(y_test, y_test_pred, average = \"macro\") #F1\n",
    "f1_weight = metrics.f1_score(y_test, y_test_pred, average = \"weighted\") #加权\n",
    "fbeta = metrics.fbeta_score(y_test, y_test_pred, average = \"macro\", beta = 1) #Fbeta的意思是，召回率的重要程度是精确率的beta倍\n",
    "print(\"各性能指标：\")\n",
    "print(\"test_accuracy = %f, macro_P = %f, macro_R = %f, f1_macro = %f, f1_weight = %f, fbeta = %f\"\n",
    "     %(test_acc, macro_P, micro_R, f1_micro, f1_weight, fbeta))\n",
    "\n",
    "#绘制混淆矩阵\n",
    "fig, ax = plt.subplots(figsize = (10,8))\n",
    "plot_confusion_matrix(model, X_test, y_test, cmap = plt.cm.Reds, ax = ax)\n",
    "plt.show()"
   ]
  }
 ],
 "metadata": {
  "kernelspec": {
   "display_name": "Python 3",
   "language": "python",
   "name": "python3"
  },
  "language_info": {
   "codemirror_mode": {
    "name": "ipython",
    "version": 3
   },
   "file_extension": ".py",
   "mimetype": "text/x-python",
   "name": "python",
   "nbconvert_exporter": "python",
   "pygments_lexer": "ipython3",
   "version": "3.7.3"
  }
 },
 "nbformat": 4,
 "nbformat_minor": 2
}
